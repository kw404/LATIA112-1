{
 "cells": [
  {
   "cell_type": "markdown",
   "metadata": {},
   "source": [
    "### 宣告這次會用到的函式庫"
   ]
  },
  {
   "cell_type": "code",
   "execution_count": 29,
   "metadata": {},
   "outputs": [
    {
     "data": {
      "text/plain": [
       "'c:\\\\Users\\\\kao91\\\\AppData\\\\Local\\\\Programs\\\\Python\\\\Python39\\\\lib\\\\site-packages\\\\chromedriver_autoinstaller_fix\\\\119\\\\chromedriver.exe'"
      ]
     },
     "execution_count": 29,
     "metadata": {},
     "output_type": "execute_result"
    }
   ],
   "source": [
    "from math import floor\n",
    "from selenium import webdriver\n",
    "from selenium.webdriver.common.by import By\n",
    "from selenium.webdriver.support.ui import Select\n",
    "import chromedriver_autoinstaller_fix\n",
    "from time import sleep\n",
    "import requests as rq\n",
    "import pandas as pd\n",
    "from bs4 import BeautifulSoup as soup\n",
    "from selenium.webdriver.chrome.options import Options\n",
    "from lxml import etree\n",
    "import time\n",
    "\n",
    "chromedriver_autoinstaller_fix.install()"
   ]
  },
  {
   "cell_type": "markdown",
   "metadata": {},
   "source": [
    "### 啟動webdriver以及開啟的網址"
   ]
  },
  {
   "cell_type": "markdown",
   "metadata": {},
   "source": [
    "### 預設欄位名稱"
   ]
  },
  {
   "cell_type": "markdown",
   "metadata": {},
   "source": [
    "### 建立取得資料的函式"
   ]
  },
  {
   "cell_type": "code",
   "execution_count": 74,
   "metadata": {},
   "outputs": [
    {
     "name": "stdout",
     "output_type": "stream",
     "text": [
      "This is the last page ( •̀ ω •́ )✧\n"
     ]
    }
   ],
   "source": [
    "driver = webdriver.Chrome()\n",
    "\n",
    "url = \"https://www4.inservice.edu.tw/script/IndexQuery.aspx?school=10\"\n",
    "html = driver.get(url)\n",
    "\n",
    "sp = soup(driver.page_source, \"lxml\")\n",
    "\n",
    "data_column_name = [\"課程代碼\", \"研習名稱\", \"性質\", \"課程開始日期\", \"課程結束日期\", \"辦理研習單位\", \"開課地點\"]\n",
    "\n",
    "\n",
    "def get_data():\n",
    "    data = []\n",
    "    row = []\n",
    "    count = 0\n",
    "    sp = soup(driver.page_source, \"html.parser\")\n",
    "\n",
    "    # Check if the tbody element with class \"table_bottom\" exists\n",
    "    table = sp.find(\"table\", class_=\"csscts\")\n",
    "    if table:\n",
    "        tr_tags = table.find_all(\"tr\")\n",
    "        for tr_tag in tr_tags:\n",
    "            td_tags = tr_tag.find_all(\"td\", class_=\"wide-only\")\n",
    "            for td_tag in td_tags:\n",
    "                row.append(td_tag.text)\n",
    "                count += 1\n",
    "                if count % 8 == 0:\n",
    "                    data.append(row[1:])\n",
    "                    row = []\n",
    "    return data\n",
    "\n",
    "\n",
    "def click_next_page_button():\n",
    "    time.sleep(3)\n",
    "    next_button = driver.find_element(By.ID, \"ImageButton8\")\n",
    "    next_button.click()\n",
    "    time.sleep(2)\n",
    "\n",
    "\n",
    "df_list = []\n",
    "sp = soup(driver.page_source, \"html.parser\")\n",
    "total_page = sp.find(id=\"lbl_Allpage\")\n",
    "total_page = total_page.text\n",
    "now_page = 1\n",
    "while True:\n",
    "    time.sleep(2)\n",
    "    df_list.extend(get_data())\n",
    "    if now_page == int(total_page) - 1:\n",
    "        print(\"This is the last page ( •̀ ω •́ )✧\")\n",
    "        break\n",
    "    else:\n",
    "        click_next_page_button()\n",
    "        now_page += 1\n",
    "\n",
    "df = pd.DataFrame(df_list[7:-1], columns=data_column_name)\n",
    "\n",
    "df.to_csv(\"教師研習場次.csv\", index=False, encoding=\"utf-8\") \n",
    "driver.quit()"
   ]
  }
 ],
 "metadata": {
  "kernelspec": {
   "display_name": "Python 3",
   "language": "python",
   "name": "python3"
  },
  "language_info": {
   "codemirror_mode": {
    "name": "ipython",
    "version": 3
   },
   "file_extension": ".py",
   "mimetype": "text/x-python",
   "name": "python",
   "nbconvert_exporter": "python",
   "pygments_lexer": "ipython3",
   "version": "3.9.12"
  }
 },
 "nbformat": 4,
 "nbformat_minor": 2
}
